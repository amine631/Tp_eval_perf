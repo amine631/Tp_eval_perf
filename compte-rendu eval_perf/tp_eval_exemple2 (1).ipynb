{
 "cells": [
  {
   "cell_type": "code",
   "execution_count": 29,
   "metadata": {},
   "outputs": [],
   "source": [
    "import numpy as np\n",
    "import random \n",
    "import matplotlib . pyplot as plt\n",
    "import math\n",
    "\n",
    "\n",
    "\n",
    "\n",
    "\n"
   ]
  },
  {
   "cell_type": "code",
   "execution_count": 30,
   "metadata": {},
   "outputs": [],
   "source": [
    "def f(x,λ):#la fonction exponentoielle\n",
    "    return 1-math.exp(-λ*x)#le retour de la fonction"
   ]
  },
  {
   "cell_type": "code",
   "execution_count": 31,
   "metadata": {},
   "outputs": [],
   "source": [
    "def remplir_tab(n,λ): #remplir un tableau de taille n et de parametre λ\n",
    "    t=[]\n",
    "    for i in range(n) :\n",
    "        t.append(f(random.randint(0,1),λ))# replir le tableau t de taille n avec des valeurs entre 0 et 1 et de parametre λ\n",
    "    return t"
   ]
  },
  {
   "cell_type": "code",
   "execution_count": 32,
   "metadata": {},
   "outputs": [
    {
     "data": {
      "text/plain": [
       "[0.9816843611112658, 0.9816843611112658, 0.0, 0.9816843611112658, 0.0]"
      ]
     },
     "execution_count": 32,
     "metadata": {},
     "output_type": "execute_result"
    }
   ],
   "source": [
    "remplir_tab(5,4) # pour tester la fonction "
   ]
  },
  {
   "cell_type": "code",
   "execution_count": 33,
   "metadata": {},
   "outputs": [],
   "source": [
    "def moyenne (n,λ): # fonction pour calculer la moyenne empirique et de parametre λ\n",
    "    \n",
    "    t=[]\n",
    "    for i in range(n) :\n",
    "        t.append(f(random.randint(0,1),λ)) # replir le tableau t de taille n avec des valeurs entre 0 et 1   \n",
    "    x=0\n",
    "    for j in t:#parcourir le tableau t\n",
    "        x=x+j\n",
    "    return x/n # la valeur finale du moyenne\n"
   ]
  },
  {
   "cell_type": "code",
   "execution_count": 34,
   "metadata": {},
   "outputs": [
    {
     "data": {
      "text/plain": [
       "0.0"
      ]
     },
     "execution_count": 34,
     "metadata": {},
     "output_type": "execute_result"
    }
   ],
   "source": [
    "moyenne(5,4)# pour tester la fonction "
   ]
  },
  {
   "cell_type": "code",
   "execution_count": 35,
   "metadata": {},
   "outputs": [
    {
     "data": {
      "text/plain": [
       "0.3458658867053547"
      ]
     },
     "execution_count": 35,
     "metadata": {},
     "output_type": "execute_result"
    }
   ],
   "source": [
    "moyenne(100,2)# pour tester la fonction "
   ]
  },
  {
   "cell_type": "code",
   "execution_count": 36,
   "metadata": {},
   "outputs": [
    {
     "data": {
      "text/plain": [
       "0.4898604961945169"
      ]
     },
     "execution_count": 36,
     "metadata": {},
     "output_type": "execute_result"
    }
   ],
   "source": [
    "moyenne(10000,4)# pour tester la fonction "
   ]
  },
  {
   "cell_type": "code",
   "execution_count": 37,
   "metadata": {},
   "outputs": [
    {
     "data": {
      "text/plain": [
       "0.3926737444445063"
      ]
     },
     "execution_count": 37,
     "metadata": {},
     "output_type": "execute_result"
    }
   ],
   "source": [
    "moyenne(10,4)"
   ]
  },
  {
   "cell_type": "code",
   "execution_count": 38,
   "metadata": {},
   "outputs": [
    {
     "data": {
      "text/plain": [
       "0.49544904465769274"
      ]
     },
     "execution_count": 38,
     "metadata": {},
     "output_type": "execute_result"
    }
   ],
   "source": [
    "moyenne(100000,5)"
   ]
  },
  {
   "cell_type": "code",
   "execution_count": 39,
   "metadata": {},
   "outputs": [
    {
     "data": {
      "text/plain": [
       "0.4063924168787917"
      ]
     },
     "execution_count": 39,
     "metadata": {},
     "output_type": "execute_result"
    }
   ],
   "source": [
    "moyenne(100,2)"
   ]
  },
  {
   "cell_type": "code",
   "execution_count": 40,
   "metadata": {},
   "outputs": [
    {
     "data": {
      "text/plain": [
       "0.49091482516808"
      ]
     },
     "execution_count": 40,
     "metadata": {},
     "output_type": "execute_result"
    }
   ],
   "source": [
    "moyenne(10000000,4)"
   ]
  },
  {
   "cell_type": "code",
   "execution_count": 41,
   "metadata": {},
   "outputs": [
    {
     "data": {
      "text/plain": [
       "0.4322100947744577"
      ]
     },
     "execution_count": 41,
     "metadata": {},
     "output_type": "execute_result"
    }
   ],
   "source": [
    "moyenne(10000000,2)"
   ]
  },
  {
   "cell_type": "code",
   "execution_count": 42,
   "metadata": {},
   "outputs": [],
   "source": [
    "def variance (n,λ):# la fonction pour calculer la variance\n",
    "    \n",
    "    t=[]\n",
    "    for i in range(n) :\n",
    "        t.append(f(random.randint(0,1),λ))    # replir le tableau t de taille n avec des valeurs entre 0 et 1 \n",
    "    x=0\n",
    "    for j in t:\n",
    "        x=x+j\n",
    "    return x/(2*n)  # la valeur finale de la vatiance emporique\n"
   ]
  },
  {
   "cell_type": "code",
   "execution_count": 43,
   "metadata": {},
   "outputs": [
    {
     "data": {
      "text/plain": [
       "0.24642944427756514"
      ]
     },
     "execution_count": 43,
     "metadata": {},
     "output_type": "execute_result"
    }
   ],
   "source": [
    "variance(100,2)"
   ]
  },
  {
   "cell_type": "code",
   "execution_count": 44,
   "metadata": {},
   "outputs": [
    {
     "data": {
      "text/plain": [
       "0.21478271564402843"
      ]
     },
     "execution_count": 44,
     "metadata": {},
     "output_type": "execute_result"
    }
   ],
   "source": [
    "variance(10000,2)"
   ]
  },
  {
   "cell_type": "code",
   "execution_count": 45,
   "metadata": {},
   "outputs": [
    {
     "data": {
      "text/plain": [
       "0.21011352617350518"
      ]
     },
     "execution_count": 45,
     "metadata": {},
     "output_type": "execute_result"
    }
   ],
   "source": [
    "variance(1000,2)"
   ]
  },
  {
   "cell_type": "code",
   "execution_count": 46,
   "metadata": {},
   "outputs": [
    {
     "data": {
      "image/png": "[encoded data removed]",
      "text/plain": [
       "<Figure size 432x288 with 1 Axes>"
      ]
     },
     "metadata": {
      "needs_background": "light"
     },
     "output_type": "display_data"
    }
   ],
   "source": [
    "n=[100,1000,10000] # les differents valeur du N\n",
    "λ=2 # la valeur du lamda\n",
    "x=[]# le vecteur x qui contient les differnts moyennes empirique\n",
    "v=[]# le vecteur v qui contient les differnts variances empirique\n",
    "for i in n:\n",
    "    x.append(moyenne(i,λ))\n",
    "    v.append(variance(i,moyenne(i,λ)))\n",
    "plt.xlabel(\"la valeur de n\") # le nom de l'axe x\n",
    "plt.ylabel(\"la moyenne en rouge et la variance en bleu\") # le nom de l'axe y\n",
    "plt.plot(n,x,color='r') #la courbe x en rouge\n",
    "plt.plot(n,v,color='b') #la courbe v en bleu\n",
    "plt.show() #afficher les deux courbes\n",
    "\n"
   ]
  },
  {
   "cell_type": "code",
   "execution_count": null,
   "metadata": {},
   "outputs": [],
   "source": []
  }
 ],
 "metadata": {
  "kernelspec": {
   "display_name": "Python 3",
   "language": "python",
   "name": "python3"
  },
  "language_info": {
   "codemirror_mode": {
    "name": "ipython",
    "version": 3
   },
   "file_extension": ".py",
   "mimetype": "text/x-python",
   "name": "python",
   "nbconvert_exporter": "python",
   "pygments_lexer": "ipython3",
   "version": "3.8.3"
  }
 },
 "nbformat": 4,
 "nbformat_minor": 4
}
