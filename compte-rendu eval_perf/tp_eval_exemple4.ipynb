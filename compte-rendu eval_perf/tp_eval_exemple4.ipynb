{
 "cells": [
  {
   "cell_type": "code",
   "execution_count": 1,
   "metadata": {},
   "outputs": [],
   "source": [
    "import matplotlib.pyplot as plt \n",
    "import random \n",
    "import numpy as np "
   ]
  },
  {
   "cell_type": "code",
   "execution_count": 2,
   "metadata": {},
   "outputs": [],
   "source": [
    "def remplir_tab(n):\n",
    "    x=[]\n",
    "    t=[] \n",
    "    for i in range(n):\n",
    "        x.append(random.uniform(0,1)) #génerer une distrubtion discréte uniforme entre [0,1] avec n echantillon\n",
    "    for i in x: \n",
    "        if i<0.3: \n",
    "            t.append(0) # f(x) = 0\n",
    "        elif i>= 0.3 and i<0.5: \n",
    "            t.append(2) # f(x) = 2\n",
    "        elif i>=0.5: # \n",
    "            t.append(6) # f(x) = 6\n",
    "        \n",
    "    return t\n",
    "              "
   ]
  },
  {
   "cell_type": "code",
   "execution_count": 3,
   "metadata": {},
   "outputs": [],
   "source": [
    "def moyenne(t) : # fonction qui calcule la moyenne empérique\n",
    "    \n",
    "    n=len(t) \n",
    "    return (1/n)*(sum(t)) # le résultat de la moyenne"
   ]
  },
  {
   "cell_type": "code",
   "execution_count": 4,
   "metadata": {},
   "outputs": [],
   "source": [
    "def variance(t,m): # fonction qui calcule la variance empérique\n",
    "    var=0\n",
    "    n=len(t) \n",
    "    for i in t:\n",
    "        var=(i-m)**2 # formule qui calcule la variance \n",
    "    return var # le résultat de la variance"
   ]
  },
  {
   "cell_type": "code",
   "execution_count": 11,
   "metadata": {},
   "outputs": [
    {
     "data": {
      "image/png": "[encoded data removed]",
      "text/plain": [
       "<Figure size 432x288 with 1 Axes>"
      ]
     },
     "metadata": {
      "needs_background": "light"
     },
     "output_type": "display_data"
    }
   ],
   "source": [
    "n=[1000,10000,100000] # les differents valeur du N\n",
    "var=[] #le vecteur qui contient les differents valeurs du variance\n",
    "moy=[] #le vecteur qui contient les differents valeurs du moyenne\n",
    "\n",
    "for i in n: \n",
    "    t=remplir_tab(i) \n",
    "    moy.append(moyenne(t)) \n",
    "    var.append(variance(t,moyenne(t))) \n",
    "\n",
    "\n",
    "plt.plot(n,var,color='r') #la courbe var en rouge\n",
    "plt.plot(n,moy,color='g')#la courbe moy en vert\n",
    "plt.xlabel(\"N\") #le nom de l'axe x\n",
    "plt.ylabel(\"la moyenne empirique et la variance emoirique\")#le nom de l'axe y\n",
    "plt.title(\"Courbe de la moyenne empérique et la variance empérique\") #le titre de la courbe\n",
    "plt.show() # afficher la courbe du moy(moyenne) et var(variance)"
   ]
  },
  {
   "cell_type": "code",
   "execution_count": null,
   "metadata": {},
   "outputs": [],
   "source": []
  },
  {
   "cell_type": "code",
   "execution_count": null,
   "metadata": {},
   "outputs": [],
   "source": []
  }
 ],
 "metadata": {
  "kernelspec": {
   "display_name": "Python 3",
   "language": "python",
   "name": "python3"
  },
  "language_info": {
   "codemirror_mode": {
    "name": "ipython",
    "version": 3
   },
   "file_extension": ".py",
   "mimetype": "text/x-python",
   "name": "python",
   "nbconvert_exporter": "python",
   "pygments_lexer": "ipython3",
   "version": "3.8.3"
  }
 },
 "nbformat": 4,
 "nbformat_minor": 4
}
