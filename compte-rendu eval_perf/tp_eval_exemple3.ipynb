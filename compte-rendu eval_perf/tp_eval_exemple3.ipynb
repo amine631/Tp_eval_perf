{
 "cells": [
  {
   "cell_type": "code",
   "execution_count": 2,
   "metadata": {},
   "outputs": [],
   "source": [
    "import numpy as np # bibliothéque pour la création l'axe des x\n",
    "import numpy . random # bibliothéque pour génerer des variables aléatoires\n",
    "import matplotlib . pyplot as plt # bibliothéque pour afficher les figures\n",
    "\n",
    "\n",
    "\n",
    "\n",
    "\n"
   ]
  },
  {
   "cell_type": "code",
   "execution_count": 3,
   "metadata": {},
   "outputs": [],
   "source": [
    "import random\n",
    "def remplir_tab(n,a,b):#Focntion qui va générer des valeurs entre a et b\n",
    "    \n",
    "    t=[random.randint(a,b) for i in range(n)] # replir le tableau t de taille n avec des valeurs entre a et b \n",
    "    return(t)\n",
    " "
   ]
  },
  {
   "cell_type": "code",
   "execution_count": 4,
   "metadata": {},
   "outputs": [
    {
     "data": {
      "text/plain": [
       "[11, 18, 19, 7, 14, 5, 13, 12, 8, 8]"
      ]
     },
     "execution_count": 4,
     "metadata": {},
     "output_type": "execute_result"
    }
   ],
   "source": [
    "remplir_tab(10,5,20)# pour tester la fonction "
   ]
  },
  {
   "cell_type": "code",
   "execution_count": 5,
   "metadata": {},
   "outputs": [],
   "source": [
    "def moyenne (n,a,b):# fonction pour calculer la moyenne empirique\n",
    "    \n",
    "    t=[random.randint(a,b) for i in range(n)] # replir le tableau t de taille n avec des valeurs entre a et b\n",
    "    x=0 \n",
    "    for i in t:\n",
    "        x=x+i\n",
    "    return x/n # la valeur finale du moyenne\n"
   ]
  },
  {
   "cell_type": "code",
   "execution_count": 6,
   "metadata": {},
   "outputs": [
    {
     "data": {
      "text/plain": [
       "13.4"
      ]
     },
     "execution_count": 6,
     "metadata": {},
     "output_type": "execute_result"
    }
   ],
   "source": [
    "moyenne(10,5,20)# pour tester la fonction "
   ]
  },
  {
   "cell_type": "code",
   "execution_count": 7,
   "metadata": {},
   "outputs": [
    {
     "data": {
      "text/plain": [
       "12.69"
      ]
     },
     "execution_count": 7,
     "metadata": {},
     "output_type": "execute_result"
    }
   ],
   "source": [
    "moyenne(100,5,20)# pour tester la fonction "
   ]
  },
  {
   "cell_type": "code",
   "execution_count": 8,
   "metadata": {},
   "outputs": [
    {
     "data": {
      "image/png": "[encoded data removed]",
      "text/plain": [
       "<Figure size 432x288 with 1 Axes>"
      ]
     },
     "metadata": {
      "needs_background": "light"
     },
     "output_type": "display_data"
    }
   ],
   "source": [
    "n=[100000,1000000,1000000]# les differents valeur du N\n",
    "a=5 #la valeur de a\n",
    "b=40#la valeur de b\n",
    "x=[]#le vecteur qui contient les differents valeurs du moyenne\n",
    "for i in n:\n",
    "    x.append(moyenne(i,a,b))# ajouter la moyenne de i dans x\n",
    "plt.plot(n,x,color='r')\n",
    "plt.show()# afficher la courbe du x(moyenne)"
   ]
  },
  {
   "cell_type": "code",
   "execution_count": 10,
   "metadata": {},
   "outputs": [],
   "source": [
    "def variance(n,moy):\n",
    "    t=[random.randint(0,1) for i in range(n)]\n",
    "    x=0\n",
    "    for i in t:\n",
    "        var=(i-x/n)**2\n",
    "    return var/n"
   ]
  },
  {
   "cell_type": "code",
   "execution_count": 11,
   "metadata": {},
   "outputs": [
    {
     "data": {
      "image/png": "[encoded data removed]",
      "text/plain": [
       "<Figure size 432x288 with 1 Axes>"
      ]
     },
     "metadata": {
      "needs_background": "light"
     },
     "output_type": "display_data"
    }
   ],
   "source": [
    "n=[100,1000,10000] # les differents valeur du N\n",
    "a=5#la valeur de a\n",
    "b=40  #la valeur de b\n",
    "x=[] #le vecteur qui contient les differents valeurs du moyenne\n",
    "v=[] #le vecteur qui contient les differents valeurs du variance\n",
    "for i in n:\n",
    "    x.append(moyenne(i,a,b)) # ajouter la moyenne de i dans x\n",
    "    v.append(variance(i,moyenne(i,a,b))) # ajouter l avariance de i dans v\n",
    "plt.xlabel(\"la valeur de n\")\n",
    "plt.ylabel(\"la moyenne en rouge et la variance en bleu\")\n",
    "plt.plot(n,x,color='r')  #la courbe x en rouge\n",
    "plt.plot(n,v,color='b')#la courbe v en bleu\n",
    "plt.show() # afficher la courbe du x(moyenne) et v(variance)\n",
    "\n"
   ]
  },
  {
   "cell_type": "code",
   "execution_count": null,
   "metadata": {},
   "outputs": [],
   "source": []
  }
 ],
 "metadata": {
  "kernelspec": {
   "display_name": "Python 3",
   "language": "python",
   "name": "python3"
  },
  "language_info": {
   "codemirror_mode": {
    "name": "ipython",
    "version": 3
   },
   "file_extension": ".py",
   "mimetype": "text/x-python",
   "name": "python",
   "nbconvert_exporter": "python",
   "pygments_lexer": "ipython3",
   "version": "3.8.3"
  }
 },
 "nbformat": 4,
 "nbformat_minor": 4
}
