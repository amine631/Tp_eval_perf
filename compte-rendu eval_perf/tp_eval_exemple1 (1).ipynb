{
 "cells": [
  {
   "cell_type": "code",
   "execution_count": 1,
   "metadata": {},
   "outputs": [],
   "source": [
    "import numpy as np\n",
    "import numpy . random \n",
    "import matplotlib . pyplot as plt\n",
    "\n",
    "\n",
    "\n",
    "\n",
    "\n"
   ]
  },
  {
   "cell_type": "code",
   "execution_count": 4,
   "metadata": {},
   "outputs": [],
   "source": [
    "import random\n",
    "def remplir_tab(n):# fonction pour remplir un tableau de taille n \n",
    "    \n",
    "    t=[random.randint(0,1) for i in range(n)]# replir le tableau t de taille n avec des valeurs entre 0 et1 \n",
    "    return(t)#afficher le tableau\n",
    " "
   ]
  },
  {
   "cell_type": "code",
   "execution_count": 5,
   "metadata": {},
   "outputs": [
    {
     "data": {
      "text/plain": [
       "[1, 0, 1, 1, 1, 0, 0, 1, 0, 1]"
      ]
     },
     "execution_count": 5,
     "metadata": {},
     "output_type": "execute_result"
    }
   ],
   "source": [
    "remplir_tab(10)#tester la fonction"
   ]
  },
  {
   "cell_type": "code",
   "execution_count": null,
   "metadata": {},
   "outputs": [],
   "source": []
  },
  {
   "cell_type": "code",
   "execution_count": null,
   "metadata": {},
   "outputs": [],
   "source": [
    "   \n",
    "    "
   ]
  },
  {
   "cell_type": "code",
   "execution_count": null,
   "metadata": {},
   "outputs": [],
   "source": [
    "\n"
   ]
  },
  {
   "cell_type": "code",
   "execution_count": 6,
   "metadata": {},
   "outputs": [],
   "source": [
    "def moyenne (n):# fonction qui calcule la moyenne empérique\n",
    "    \n",
    "    t=[random.randint(0,1) for i in range(n)]# replir le tableau t de taille n avec des valeurs entre 0 et1 \n",
    "    x=0\n",
    "    for i in t:\n",
    "        x=x+i\n",
    "    return x/n# le résultat de la moyenne\n"
   ]
  },
  {
   "cell_type": "code",
   "execution_count": 6,
   "metadata": {},
   "outputs": [
    {
     "data": {
      "text/plain": [
       "0.52"
      ]
     },
     "execution_count": 6,
     "metadata": {},
     "output_type": "execute_result"
    }
   ],
   "source": [
    "moyenne(100)#tester la fonction"
   ]
  },
  {
   "cell_type": "code",
   "execution_count": 7,
   "metadata": {},
   "outputs": [
    {
     "data": {
      "text/plain": [
       "0.484"
      ]
     },
     "execution_count": 7,
     "metadata": {},
     "output_type": "execute_result"
    }
   ],
   "source": [
    "moyenne(1000)#tester la fonction"
   ]
  },
  {
   "cell_type": "code",
   "execution_count": 8,
   "metadata": {},
   "outputs": [
    {
     "data": {
      "text/plain": [
       "0.4924"
      ]
     },
     "execution_count": 8,
     "metadata": {},
     "output_type": "execute_result"
    }
   ],
   "source": [
    "moyenne(10000)#tester la fonction"
   ]
  },
  {
   "cell_type": "code",
   "execution_count": 9,
   "metadata": {},
   "outputs": [
    {
     "data": {
      "text/plain": [
       "0.50012"
      ]
     },
     "execution_count": 9,
     "metadata": {},
     "output_type": "execute_result"
    }
   ],
   "source": [
    "moyenne(100000)#tester la fonction"
   ]
  },
  {
   "cell_type": "code",
   "execution_count": 10,
   "metadata": {},
   "outputs": [
    {
     "data": {
      "image/png": "[encoded data removed]",
      "text/plain": [
       "<Figure size 432x288 with 1 Axes>"
      ]
     },
     "metadata": {
      "needs_background": "light"
     },
     "output_type": "display_data"
    }
   ],
   "source": [
    "n=[100000,1000000,1000000]\n",
    "x=[]\n",
    "for i in n:\n",
    "    x.append(moyenne(i))\n",
    "plt.plot(n,x,color='r')\n",
    "plt.show()"
   ]
  },
  {
   "cell_type": "code",
   "execution_count": 10,
   "metadata": {},
   "outputs": [],
   "source": [
    "def variance(n,moy): # fonction qui calcule la variance empérique\n",
    "    t=[random.randint(0,1) for i in range(n)] # replir le tableau t de taille n avec des valeurs entre 0 et1 \n",
    "    x=0\n",
    "    for i in t:\n",
    "        var=(i-x/n)**2 # formule qui calcule la variance \n",
    "    return var/n # le résultat de la variance"
   ]
  },
  {
   "cell_type": "code",
   "execution_count": 11,
   "metadata": {},
   "outputs": [
    {
     "data": {
      "image/png": "[encoded data removed]",
      "text/plain": [
       "<Figure size 432x288 with 1 Axes>"
      ]
     },
     "metadata": {
      "needs_background": "light"
     },
     "output_type": "display_data"
    }
   ],
   "source": [
    "n=[100000,1000000,1000000] # les differents valeur du N\n",
    "x=[] #le vecteur qui contient les differents valeurs du moyenne\n",
    "v=[]#le vecteur qui contient les differents valeurs du variance\n",
    "for i in n:\n",
    "    x.append(moyenne(i))\n",
    "    v.append(variance(i,moyenne(i)))\n",
    "plt.xlabel(\"la moyenne et la variance\")\n",
    "plt.ylabel(\"n\")\n",
    "plt.plot(n,x,color='r') #la courbe x en rouge\n",
    "plt.plot(n,v,color='b') #la courbe v en bleu\n",
    "plt.show() # afficher la courbe du moy(moyenne) et var(variance\n",
    "\n"
   ]
  },
  {
   "cell_type": "code",
   "execution_count": null,
   "metadata": {},
   "outputs": [],
   "source": []
  }
 ],
 "metadata": {
  "kernelspec": {
   "display_name": "Python 3",
   "language": "python",
   "name": "python3"
  },
  "language_info": {
   "codemirror_mode": {
    "name": "ipython",
    "version": 3
   },
   "file_extension": ".py",
   "mimetype": "text/x-python",
   "name": "python",
   "nbconvert_exporter": "python",
   "pygments_lexer": "ipython3",
   "version": "3.8.3"
  }
 },
 "nbformat": 4,
 "nbformat_minor": 4
}
